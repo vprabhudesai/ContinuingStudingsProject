{
 "cells": [
  {
   "cell_type": "code",
   "execution_count": 5,
   "metadata": {},
   "outputs": [],
   "source": [
    "import tensorflow as tf\n",
    "from tensorflow import keras\n",
    "from tensorflow.keras import layers\n",
    "from tensorflow.keras.optimizers import Adam\n",
    "from keras.datasets import mnist\n",
    "from sklearn.model_selection import train_test_split\n",
    "from sklearn.preprocessing import OneHotEncoder\n",
    "\n",
    "from PIL import Image\n",
    "import pandas as pd\n",
    "import requests\n",
    "import numpy as np"
   ]
  },
  {
   "cell_type": "code",
   "execution_count": 6,
   "metadata": {},
   "outputs": [],
   "source": [
    "(X_train, y_train), (X_test, y_test) = mnist.load_data()"
   ]
  },
  {
   "cell_type": "code",
   "execution_count": null,
   "metadata": {},
   "outputs": [
    {
     "name": "stdout",
     "output_type": "stream",
     "text": [
      "X_train: (60000, 28, 28)\n",
      "Y_train: (60000,)\n",
      "X_test:  (10000, 28, 28)\n",
      "Y_test:  (10000,)\n"
     ]
    }
   ],
   "source": [
    "print('X_train: ' + str(X_train.shape))\n",
    "print('Y_train: ' + str(y_train.shape))\n",
    "print('X_test:  '  + str(X_test.shape))\n",
    "print('Y_test:  '  + str(y_test.shape)) "
   ]
  },
  {
   "cell_type": "code",
   "execution_count": 8,
   "metadata": {},
   "outputs": [
    {
     "name": "stdout",
     "output_type": "stream",
     "text": [
      "300000\n",
      "300000\n"
     ]
    }
   ],
   "source": [
    "# Apply augmentation to the whole training dataset\n",
    "# Define the augmentation pipeline\n",
    "data_augmentation = tf.keras.Sequential([\n",
    "    tf.keras.layers.RandomRotation(0.2),         # Random rotation (20 degrees)\n",
    "    tf.keras.layers.RandomTranslation(0.1, 0.1), # Random horizontal and vertical shift\n",
    "    tf.keras.layers.RandomZoom(0.2),             # Random zoom\n",
    "    tf.keras.layers.RandomFlip('horizontal')     # Random horizontal flip\n",
    "])\n",
    "\n",
    "# Create variables to hold the X and y training data\n",
    "X_train_aug = []\n",
    "y_train_aug = []\n",
    "\n",
    "# Loop through all the images.\n",
    "for i in range(len(X_train)):\n",
    "    # Select the image\n",
    "    img = X_train[i]\n",
    "    # Select the label from the training data\n",
    "    label = y_train[i]\n",
    "\n",
    "    # Add a channel dimension for grayscale images\n",
    "    img = np.expand_dims(img, axis=-1)  # Add channel dimension\n",
    "\n",
    "    # Ensure that the input data has the correct shape\n",
    "    img = np.expand_dims(img, axis=0)  # Add batch dimension\n",
    "\n",
    "    # Add 5 images for every original image\n",
    "    for j in range(5):\n",
    "        # Append a new image to the X list\n",
    "        X_train_aug.append(data_augmentation(img, training=True)[0].numpy())\n",
    "        # Append the label for the original image to the y list\n",
    "        y_train_aug.append(label)\n",
    "\n",
    "# Print the length of each list\n",
    "print(len(X_train_aug))\n",
    "print(len(y_train_aug))"
   ]
  },
  {
   "cell_type": "code",
   "execution_count": 9,
   "metadata": {},
   "outputs": [
    {
     "data": {
      "text/plain": [
       "(28, 28, 1)"
      ]
     },
     "execution_count": 9,
     "metadata": {},
     "output_type": "execute_result"
    }
   ],
   "source": [
    "# Reshape test data for the model\n",
    "X_test_np = []\n",
    "for img in X_test:\n",
    "    # Add a channel dimension for grayscale images\n",
    "    img = np.expand_dims(img, axis=-1)  # Add channel dimension\n",
    "    # Append the image to the list\n",
    "    X_test_np.append(img)\n",
    "\n",
    "# Convert to numpy array\n",
    "X_test_np = np.array(X_test_np)\n",
    "\n",
    "# Check the shape of the first image\n",
    "X_test_np[0].shape"
   ]
  },
  {
   "cell_type": "code",
   "execution_count": null,
   "metadata": {},
   "outputs": [
    {
     "data": {
      "text/plain": [
       "(240000, 10)"
      ]
     },
     "execution_count": 10,
     "metadata": {},
     "output_type": "execute_result"
    }
   ],
   "source": [
    "# One hot encode the y data\n",
    "y_encoder = OneHotEncoder(handle_unknown='ignore', sparse_output=False).fit(np.array(y_train_aug).reshape(-1, 1))\n",
    "y_train_aug_enc = y_encoder.transform(np.array(y_train_aug).reshape(-1, 1))\n",
    "y_test_enc = y_encoder.transform(np.array(y_test).reshape(-1, 1))\n",
    "\n",
    "# Convert values to numpy arrays\n",
    "X_train_aug_np = np.array(X_train_aug)\n",
    "X_test_np = np.array(X_test_np)\n",
    "y_train_aug_np = np.array(y_train_aug_enc)\n",
    "y_test_np = np.array(y_test_enc)\n",
    "\n",
    "\n",
    "# Split the training dataset into training and validation sets\n",
    "X_train, X_val, y_train, y_val = train_test_split(X_train_aug_np, y_train_aug_np, test_size=0.2, random_state=42)\n",
    "\n",
    "# Print the total number of one_hot_encoded columns\n",
    "np.array(y_train).shape"
   ]
  },
  {
   "cell_type": "code",
   "execution_count": 15,
   "metadata": {},
   "outputs": [
    {
     "name": "stdout",
     "output_type": "stream",
     "text": [
      "Epoch 1/10\n",
      "\u001b[1m7500/7500\u001b[0m \u001b[32m━━━━━━━━━━━━━━━━━━━━\u001b[0m\u001b[37m\u001b[0m \u001b[1m44s\u001b[0m 6ms/step - accuracy: 0.7199 - loss: 0.9055 - val_accuracy: 0.9155 - val_loss: 0.2688\n",
      "Epoch 2/10\n",
      "\u001b[1m7500/7500\u001b[0m \u001b[32m━━━━━━━━━━━━━━━━━━━━\u001b[0m\u001b[37m\u001b[0m \u001b[1m42s\u001b[0m 6ms/step - accuracy: 0.9243 - loss: 0.2433 - val_accuracy: 0.9348 - val_loss: 0.2149\n",
      "Epoch 3/10\n",
      "\u001b[1m7500/7500\u001b[0m \u001b[32m━━━━━━━━━━━━━━━━━━━━\u001b[0m\u001b[37m\u001b[0m \u001b[1m46s\u001b[0m 6ms/step - accuracy: 0.9404 - loss: 0.1920 - val_accuracy: 0.9370 - val_loss: 0.2073\n",
      "Epoch 4/10\n",
      "\u001b[1m7500/7500\u001b[0m \u001b[32m━━━━━━━━━━━━━━━━━━━━\u001b[0m\u001b[37m\u001b[0m \u001b[1m44s\u001b[0m 6ms/step - accuracy: 0.9480 - loss: 0.1662 - val_accuracy: 0.9411 - val_loss: 0.1982\n",
      "Epoch 5/10\n",
      "\u001b[1m7500/7500\u001b[0m \u001b[32m━━━━━━━━━━━━━━━━━━━━\u001b[0m\u001b[37m\u001b[0m \u001b[1m41s\u001b[0m 6ms/step - accuracy: 0.9526 - loss: 0.1532 - val_accuracy: 0.9425 - val_loss: 0.1913\n",
      "Epoch 6/10\n",
      "\u001b[1m7500/7500\u001b[0m \u001b[32m━━━━━━━━━━━━━━━━━━━━\u001b[0m\u001b[37m\u001b[0m \u001b[1m42s\u001b[0m 6ms/step - accuracy: 0.9554 - loss: 0.1415 - val_accuracy: 0.9402 - val_loss: 0.2054\n",
      "Epoch 7/10\n",
      "\u001b[1m7500/7500\u001b[0m \u001b[32m━━━━━━━━━━━━━━━━━━━━\u001b[0m\u001b[37m\u001b[0m \u001b[1m42s\u001b[0m 6ms/step - accuracy: 0.9582 - loss: 0.1344 - val_accuracy: 0.9432 - val_loss: 0.1930\n",
      "Epoch 8/10\n",
      "\u001b[1m7500/7500\u001b[0m \u001b[32m━━━━━━━━━━━━━━━━━━━━\u001b[0m\u001b[37m\u001b[0m \u001b[1m46s\u001b[0m 6ms/step - accuracy: 0.9598 - loss: 0.1276 - val_accuracy: 0.9414 - val_loss: 0.2026\n",
      "Epoch 9/10\n",
      "\u001b[1m7500/7500\u001b[0m \u001b[32m━━━━━━━━━━━━━━━━━━━━\u001b[0m\u001b[37m\u001b[0m \u001b[1m47s\u001b[0m 6ms/step - accuracy: 0.9623 - loss: 0.1193 - val_accuracy: 0.9464 - val_loss: 0.1911\n",
      "Epoch 10/10\n",
      "\u001b[1m7500/7500\u001b[0m \u001b[32m━━━━━━━━━━━━━━━━━━━━\u001b[0m\u001b[37m\u001b[0m \u001b[1m46s\u001b[0m 6ms/step - accuracy: 0.9633 - loss: 0.1162 - val_accuracy: 0.9445 - val_loss: 0.2114\n"
     ]
    }
   ],
   "source": [
    "# Define a CNN model\n",
    "model = keras.Sequential([\n",
    "    layers.Conv2D(32, (3, 3), activation='relu', input_shape=(28,28, 1)),\n",
    "    layers.MaxPooling2D((2, 2)),\n",
    "    layers.Conv2D(64, (3, 3), activation='relu'),\n",
    "    layers.MaxPooling2D((2, 2)),\n",
    "    layers.Conv2D(64, (3, 3), activation='relu'),\n",
    "    layers.Flatten(),\n",
    "    layers.Dense(64, activation='relu'),\n",
    "    layers.Dense(10, activation='sigmoid')  # 10 classes\n",
    "])\n",
    "\n",
    "# Compile the model\n",
    "model.compile(optimizer='adam', loss='categorical_crossentropy', metrics=['accuracy'])\n",
    "\n",
    "# Train the model\n",
    "batch_size = 32\n",
    "epochs = 10\n",
    "history = model.fit(\n",
    "    X_train, y_train,\n",
    "    validation_data=(X_val, y_val),\n",
    "    epochs=epochs\n",
    ")"
   ]
  },
  {
   "cell_type": "code",
   "execution_count": 16,
   "metadata": {},
   "outputs": [
    {
     "name": "stdout",
     "output_type": "stream",
     "text": [
      "\u001b[1m313/313\u001b[0m \u001b[32m━━━━━━━━━━━━━━━━━━━━\u001b[0m\u001b[37m\u001b[0m \u001b[1m1s\u001b[0m 2ms/step - accuracy: 0.9137 - loss: 0.4434\n"
     ]
    },
    {
     "data": {
      "text/plain": [
       "[0.38629186153411865, 0.9228000044822693]"
      ]
     },
     "execution_count": 16,
     "metadata": {},
     "output_type": "execute_result"
    }
   ],
   "source": [
    "# Evaluate the model using the testing data\n",
    "model.evaluate(X_test_np, y_test_np)"
   ]
  }
 ],
 "metadata": {
  "kernelspec": {
   "display_name": "base",
   "language": "python",
   "name": "python3"
  },
  "language_info": {
   "codemirror_mode": {
    "name": "ipython",
    "version": 3
   },
   "file_extension": ".py",
   "mimetype": "text/x-python",
   "name": "python",
   "nbconvert_exporter": "python",
   "pygments_lexer": "ipython3",
   "version": "3.12.7"
  }
 },
 "nbformat": 4,
 "nbformat_minor": 2
}
